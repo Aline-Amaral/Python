{
 "cells": [
  {
   "cell_type": "code",
   "execution_count": null,
   "id": "fe9f7805",
   "metadata": {},
   "outputs": [],
   "source": [
    "# 1. Faça um programa que imprima seu nome completo na tela\n",
    "\n",
    "print(\"Aline Matos do Amaral\")"
   ]
  },
  {
   "cell_type": "code",
   "execution_count": 1,
   "id": "7d707854",
   "metadata": {},
   "outputs": [
    {
     "name": "stdout",
     "output_type": "stream",
     "text": [
      "150\n"
     ]
    }
   ],
   "source": [
    "# 2. Escreva um programa que exiba o resultado de 5a x 3b onde a = 2 e b = 5\n",
    "\n",
    "a = 2\n",
    "b = 5\n",
    "result = ((5 * a) * (3 * b))\n",
    "print(result)"
   ]
  },
  {
   "cell_type": "code",
   "execution_count": null,
   "id": "09860361",
   "metadata": {},
   "outputs": [],
   "source": [
    "# 3. Modifique o programa anterior, inserindo uma terceira variável c = 5\n",
    "#    e imprima a soma\n",
    "\n",
    "a = 2\n",
    "b = 5\n",
    "c = 5\n",
    "print(a + b + c)"
   ]
  },
  {
   "cell_type": "code",
   "execution_count": 2,
   "id": "f2f885a0",
   "metadata": {},
   "outputs": [
    {
     "name": "stdout",
     "output_type": "stream",
     "text": [
      "Digite o primeiro número: 1\n",
      "Digite o segundo número: 2\n",
      "Digite o tipo de operação que deseja realizar: soma\n",
      "3\n"
     ]
    }
   ],
   "source": [
    "# 4. Escreva um programa que leia dois números e que pergunte qual operação \n",
    "#    você deseja realizar. Você deve poder calcular a soma (+), subtração(-), \n",
    "#    multiplicação(*) e divisão(/). Exiba o resultado da operação.\n",
    "\n",
    "a = int(input(\"Digite o primeiro número: \"))\n",
    "b = int(input(\"Digite o segundo número: \"))\n",
    "operacao = input(\"Digite o tipo de operação que deseja realizar: \")\n",
    "\n",
    "if operacao == 'soma':\n",
    "    result = a + b\n",
    "elif operacao == 'subtração':\n",
    "    result = a - b\n",
    "elif operacao == 'multiplicação':\n",
    "    result = a * b\n",
    "elif operacao == 'divisão':\n",
    "    result = a / b\n",
    "print(result)"
   ]
  },
  {
   "cell_type": "code",
   "execution_count": 5,
   "id": "70bb5265",
   "metadata": {},
   "outputs": [
    {
     "name": "stdout",
     "output_type": "stream",
     "text": [
      "1\n",
      "2\n",
      "3\n",
      "4\n",
      "5\n",
      "6\n",
      "7\n",
      "8\n",
      "9\n",
      "10\n"
     ]
    }
   ],
   "source": [
    "# 5. Escreva um programa para contar de 1 até 10.\n",
    "# a) usando a instrução while\n",
    "\n",
    "i = 1\n",
    "while i < 11:\n",
    "    print(i)\n",
    "    i+=1"
   ]
  },
  {
   "cell_type": "code",
   "execution_count": 69,
   "id": "ca516d58",
   "metadata": {},
   "outputs": [
    {
     "name": "stdout",
     "output_type": "stream",
     "text": [
      "1\n",
      "2\n",
      "3\n",
      "4\n",
      "5\n",
      "6\n",
      "7\n",
      "8\n",
      "9\n",
      "10\n"
     ]
    }
   ],
   "source": [
    "# b) usando a instrução for e a função range\n",
    "\n",
    "for i in range (1, 11, 1):\n",
    "    print(i)"
   ]
  },
  {
   "cell_type": "code",
   "execution_count": 70,
   "id": "29912499",
   "metadata": {},
   "outputs": [
    {
     "name": "stdout",
     "output_type": "stream",
     "text": [
      "A quantidade de números pares é: 5\n",
      "A soma dos números pares é: 30\n",
      "A quantidade de números ímpares é: 5\n",
      "A soma dos números ímpares é: 25\n"
     ]
    }
   ],
   "source": [
    "# 6. Escreva um programa para contar quantos números pares e ímpares \n",
    "#    existentes entre 1 e 10 bem como a soma deles.\n",
    "# a) usando a instrução while\n",
    "\n",
    "i = 1\n",
    "countPar = 0\n",
    "countImpar = 0\n",
    "sumPar = 0\n",
    "sumImpar = 0\n",
    "while i < 11:\n",
    "    if (i % 2 == 0):\n",
    "        countPar += 1\n",
    "        sumPar += i\n",
    "    else:\n",
    "        countImpar += 1\n",
    "        sumImpar += i\n",
    "    i+=1\n",
    "print(\"A quantidade de números pares é: %d\" %countPar)\n",
    "print(\"A soma dos números pares é: %d\" %sumPar)\n",
    "\n",
    "print(\"A quantidade de números ímpares é: %d\" %countImpar)\n",
    "print(\"A soma dos números ímpares é: %d\" %sumImpar)"
   ]
  },
  {
   "cell_type": "code",
   "execution_count": 19,
   "id": "ba6961f8",
   "metadata": {},
   "outputs": [
    {
     "name": "stdout",
     "output_type": "stream",
     "text": [
      "A quantidade de números pares é: 5\n",
      "A soma dos números pares é: 30\n",
      "A quantidade de números ímpares é: 5\n",
      "A soma dos números ímpares é: 25\n"
     ]
    }
   ],
   "source": [
    "# b) usando a instrução for e as funções range e sum\n",
    "\n",
    "countPar = 0\n",
    "countImpar = 0\n",
    "pares = []\n",
    "impares = []\n",
    "for i in range (1, 11, 1):\n",
    "    if (i % 2 == 0):\n",
    "        countPar += 1 \n",
    "        pares.append(i)\n",
    "    else:\n",
    "        countImpar += 1\n",
    "        impares.append(i)\n",
    "sum(pares)\n",
    "sum(impares)\n",
    "       \n",
    "        \n",
    "print(\"A quantidade de números pares é: %d\" %countPar)\n",
    "print(\"A soma dos números pares é: %d\" %sumPar)\n",
    "\n",
    "print(\"A quantidade de números ímpares é: %d\" %countImpar)\n",
    "print(\"A soma dos números ímpares é: %d\" %sumImpar)"
   ]
  },
  {
   "cell_type": "code",
   "execution_count": 87,
   "id": "02c21d09",
   "metadata": {},
   "outputs": [
    {
     "name": "stdout",
     "output_type": "stream",
     "text": [
      "O delta da equação é: -4\n",
      "A raíz 1 da equação é: (3+1j)\n",
      "O raíz 2 da equação é: (3-1j)\n"
     ]
    }
   ],
   "source": [
    "# 7. Escreva um programa para resolver equações do segundo grau representadas \n",
    "#    por ax2+bx+c usando a Fórmula de Bhaskara.\n",
    "# a) sem usar o módulo math\n",
    "\n",
    "a = 1\n",
    "b = -6\n",
    "c = 10\n",
    "\n",
    "delta = ((b ** 2) - (4 * a * c))\n",
    "x1 = ((-b) + (delta ** (1/2))) / (2 * a)\n",
    "x2 = ((-b) - (delta ** (1/2))) / (2 * a)\n",
    "\n",
    "print(\"O delta da equação é: \", end=\"\") \n",
    "print(delta)\n",
    "print(\"A raíz 1 da equação é: \", end=\"\") \n",
    "print(x1)\n",
    "print(\"O raíz 2 da equação é: \", end=\"\") \n",
    "print(x2)"
   ]
  },
  {
   "cell_type": "code",
   "execution_count": 88,
   "id": "e37cd377",
   "metadata": {},
   "outputs": [
    {
     "name": "stdout",
     "output_type": "stream",
     "text": [
      "O delta da equação é: -4.0\n",
      "A raíz 1 da equação é: (3+1j)\n",
      "O raíz 2 da equação é: (3-1j)\n"
     ]
    }
   ],
   "source": [
    "# b) usando o módulo math\n",
    "\n",
    "import math\n",
    "\n",
    "a = 1\n",
    "b = -6\n",
    "c = 10\n",
    "\n",
    "delta = ((math.pow(b, 2)) - (4 * a * c))\n",
    "if delta < 0: #Verificação para raíz imaginária\n",
    "    \"O delta é negativo\"\n",
    "else:\n",
    "    x1 = ((-b) + (math.sqrt(delta))) / (2 * a)\n",
    "    x2 = ((-b) - (math.sqrt(delta))) / (2 * a)\n",
    "\n",
    "print(\"O delta da equação é: \", end=\"\") \n",
    "print(delta)\n",
    "print(\"A raíz 1 da equação é: \", end=\"\") \n",
    "print(x1)\n",
    "print(\"O raíz 2 da equação é: \", end=\"\") \n",
    "print(x2)"
   ]
  },
  {
   "cell_type": "code",
   "execution_count": 90,
   "id": "7aa473b9",
   "metadata": {},
   "outputs": [],
   "source": [
    "# 8. Vamos reescrever o programa acima criando uma função bhaskara que \n",
    "#    recebe como parâmetros os coeficientes a, b e c e retorna as raízes \n",
    "#    da equação.\n",
    "\n",
    "def bhaskara(a, b, c):\n",
    "    delta = b ** 2 - 4 * a * c\n",
    "    if delta < 0:\n",
    "        return None\n",
    "    else:\n",
    "        raizes = []\n",
    "        m1 = math.sqrt(delta)\n",
    "        r1 =(-b + m1) / (2 * a)\n",
    "        raizes.append(r1)\n",
    "        r2 =(-b - m1) / (2 * a)\n",
    "        raizes.append(r2)\n",
    "    return raizes\n"
   ]
  },
  {
   "cell_type": "code",
   "execution_count": null,
   "id": "6dd6565d",
   "metadata": {},
   "outputs": [],
   "source": [
    "# a) O que significam palavras reservadas em Python? Quais são as palavras\n",
    "#    reservadas no código acima?\n",
    "\n",
    "São algumas palavras chave reservadas para designar funcionalidades da \n",
    "linguagem Python e não podem ser utilizadas como nome de variáveis;\n",
    "As palavras reservadas no trecho de código são:\n",
    "def, if, return, None e else"
   ]
  },
  {
   "cell_type": "code",
   "execution_count": null,
   "id": "9c6b6cda",
   "metadata": {},
   "outputs": [],
   "source": [
    "# b) Qual a função de cada uma dessas palavras reservadas no código?\n",
    "\n",
    "def: Definição da função sendo criada\n",
    "if: Chamada da estrutura de condição (se)\n",
    "return: Retornar o resultado da função para o ponto em que foi chamada\n",
    "None: Definição de falta de valor, ou seja, o retorno é nulo\n",
    "else: Parte complementar da estrutura de condição if (senão)"
   ]
  },
  {
   "cell_type": "code",
   "execution_count": 94,
   "id": "682c57c8",
   "metadata": {},
   "outputs": [
    {
     "data": {
      "text/plain": [
       "[3.0, 2.0]"
      ]
     },
     "execution_count": 94,
     "metadata": {},
     "output_type": "execute_result"
    }
   ],
   "source": [
    "# c) Implemente a função acima e mostre na tela, o resultado da equação \n",
    "#    de segundo grau.\n",
    "\n",
    "def bhaskara(a, b, c):\n",
    "    delta = b ** 2 - 4 * a * c\n",
    "    if delta < 0:\n",
    "        return None\n",
    "    else:\n",
    "        raizes = []\n",
    "        m1 = math.sqrt(delta)\n",
    "        r1 =(-b + m1) / (2 * a)\n",
    "        raizes.append(r1)\n",
    "        r2 =(-b - m1) / (2 * a)\n",
    "        raizes.append(r2)\n",
    "    return raizes\n",
    "\n",
    "bhaskara(1, -5, 6)"
   ]
  },
  {
   "cell_type": "code",
   "execution_count": 95,
   "id": "1caf1c82",
   "metadata": {},
   "outputs": [
    {
     "data": {
      "text/plain": [
       "'MENTORAMA'"
      ]
     },
     "execution_count": 95,
     "metadata": {},
     "output_type": "execute_result"
    }
   ],
   "source": [
    "# 9. Considerando a string s = 'Mentorama' escreva um programa que:\n",
    "# a) converta a string para maiúsculo, em seguida\n",
    "\n",
    "s = 'Mentorama'\n",
    "s.upper()"
   ]
  },
  {
   "cell_type": "code",
   "execution_count": 98,
   "id": "80235367",
   "metadata": {},
   "outputs": [
    {
     "data": {
      "text/plain": [
       "'amarotneM'"
      ]
     },
     "execution_count": 98,
     "metadata": {},
     "output_type": "execute_result"
    }
   ],
   "source": [
    "# b) imprima-a de trás para frente\n",
    "\n",
    "s = 'Mentorama'\n",
    "s[::-1]"
   ]
  },
  {
   "cell_type": "code",
   "execution_count": 117,
   "id": "5776d435",
   "metadata": {},
   "outputs": [
    {
     "name": "stdout",
     "output_type": "stream",
     "text": [
      "EOAA\n"
     ]
    }
   ],
   "source": [
    "# c) imprima somente as vogais\n",
    "\n",
    "vogais = \"AEOIU\"\n",
    "s = 'Mentorama'\n",
    "s = s.upper()\n",
    "letras = []\n",
    "result = ''\n",
    "\n",
    "for letra in s:\n",
    "    if (letra in vogais):\n",
    "        letras.append(letra)\n",
    "result = result.join(letras)\n",
    "print(result)\n"
   ]
  },
  {
   "cell_type": "code",
   "execution_count": 120,
   "id": "4b5134ad",
   "metadata": {},
   "outputs": [
    {
     "name": "stdout",
     "output_type": "stream",
     "text": [
      "Digite o primeiro nome: João\n",
      "Digite o sobrenome: da Silva\n",
      "Nome: João da Silva\n"
     ]
    }
   ],
   "source": [
    "# 10. Escreva um programa que receba como entrada do usuário o nome “João”\n",
    "# sobrenome “da Silva”, idade “25”, Cidade “São Paulo”, ddd “11”, telefone \n",
    "# “3333-3333” e faça as seguintes instruções:\n",
    "# a) imprima na tela o nome completo em uma única linha\n",
    "# Nome: João da Silva\n",
    "\n",
    "nome = input(\"Digite o primeiro nome: \")\n",
    "sobrenome = input(\"Digite o sobrenome: \")\n",
    "print(\"Nome: \" + nome + \" \" + sobrenome)"
   ]
  },
  {
   "cell_type": "code",
   "execution_count": 121,
   "id": "295f938d",
   "metadata": {},
   "outputs": [
    {
     "name": "stdout",
     "output_type": "stream",
     "text": [
      "Digite o ddd: 11\n",
      "Digite o telefone: 3333-3333\n",
      "Telefone: (11)3333-3333\n"
     ]
    }
   ],
   "source": [
    "# b) imprima na tela o telefone com ddd em uma única linha\n",
    "# Telefone: (11)3333-3333\n",
    "\n",
    "nome = input(\"Digite o primeiro nome: \")\n",
    "sobrenome = input(\"Digite o sobrenome: \")\n",
    "ddd = input(\"Digite o ddd: \")\n",
    "telefone = input (\"Digite o telefone: \")\n",
    "print(\"Nome: \" + nome + \" \" + sobrenome)\n",
    "print (\"Telefone: (\" + ddd + \")\" + telefone)"
   ]
  },
  {
   "cell_type": "code",
   "execution_count": 122,
   "id": "65ed74a5",
   "metadata": {},
   "outputs": [
    {
     "name": "stdout",
     "output_type": "stream",
     "text": [
      "Digite a idade: 25\n",
      "Idade: 25\n",
      "Digite a cidade: \n"
     ]
    }
   ],
   "source": [
    "# c) Imprima na tela a idade\n",
    "# Idade: 25\n",
    "\n",
    "nome = input(\"Digite o primeiro nome: \")\n",
    "sobrenome = input(\"Digite o sobrenome: \")\n",
    "ddd = input(\"Digite o ddd: \")\n",
    "telefone = input (\"Digite o telefone: \")\n",
    "idade = input(\"Digite a idade: \")\n",
    "print(\"Nome: \" + nome + \" \" + sobrenome)\n",
    "print (\"Telefone: (\" + ddd + \")\" + telefone)\n",
    "print(\"Idade: \" + idade)"
   ]
  },
  {
   "cell_type": "code",
   "execution_count": 126,
   "id": "afda2741",
   "metadata": {},
   "outputs": [
    {
     "name": "stdout",
     "output_type": "stream",
     "text": [
      "Digite o primeiro nome: João\n",
      "Digite o sobrenome: da Silva\n",
      "Digite o ddd: 11\n",
      "Digite o telefone: 3333-3333\n",
      "Digite a idade: 25\n",
      "Digite a cidade: São Paulo\n",
      "Nome: João da Silva\n",
      "Telefone: (11)3333-3333\n",
      "Idade: 25\n",
      "Cidade: São Paulo\n"
     ]
    }
   ],
   "source": [
    "# d) Imprima na tela a cidade\n",
    "# Cidade: São Paulo\n",
    "\n",
    "nome = input(\"Digite o primeiro nome: \")\n",
    "sobrenome = input(\"Digite o sobrenome: \")\n",
    "ddd = input(\"Digite o ddd: \")\n",
    "telefone = input (\"Digite o telefone: \")\n",
    "idade = input(\"Digite a idade: \")\n",
    "cidade = input(\"Digite a cidade: \")\n",
    "print(\"Nome: \" + nome + \" \" + sobrenome)\n",
    "print (\"Telefone: (\" + ddd + \")\" + telefone)\n",
    "print(\"Idade: \" + idade)\n",
    "print(\"Cidade: \" + cidade)"
   ]
  }
 ],
 "metadata": {
  "kernelspec": {
   "display_name": "Python 3 (ipykernel)",
   "language": "python",
   "name": "python3"
  },
  "language_info": {
   "codemirror_mode": {
    "name": "ipython",
    "version": 3
   },
   "file_extension": ".py",
   "mimetype": "text/x-python",
   "name": "python",
   "nbconvert_exporter": "python",
   "pygments_lexer": "ipython3",
   "version": "3.9.12"
  }
 },
 "nbformat": 4,
 "nbformat_minor": 5
}
