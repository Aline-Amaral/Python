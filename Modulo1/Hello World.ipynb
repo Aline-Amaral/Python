{
 "cells": [
  {
   "cell_type": "code",
   "execution_count": 19,
   "id": "4e6bbf0b",
   "metadata": {},
   "outputs": [
    {
     "name": "stdout",
     "output_type": "stream",
     "text": [
      "olá, mundo!\n"
     ]
    }
   ],
   "source": [
    "print(\"olá, mundo!\")"
   ]
  },
  {
   "cell_type": "markdown",
   "id": "126fff85",
   "metadata": {},
   "source": [
    "### Tipos de variáveis\n",
    "\n",
    "* int:   Para números inteiros\n",
    "* str:   Para conjunto de caracteres\n",
    "* bool:  Armazena True ou False\n",
    "* list:  Para agrupar um conjunto de elementos\n",
    "* tupla: Semelhante ao tipo list, porém, imutável\n",
    "* dic:   Para agrupar elementos que serão recuperados por uma chave"
   ]
  },
  {
   "cell_type": "code",
   "execution_count": 20,
   "id": "a431ccfb",
   "metadata": {},
   "outputs": [
    {
     "ename": "SyntaxError",
     "evalue": "invalid syntax (3972396045.py, line 3)",
     "output_type": "error",
     "traceback": [
      "\u001b[1;36m  Input \u001b[1;32mIn [20]\u001b[1;36m\u001b[0m\n\u001b[1;33m    == #Igual a\u001b[0m\n\u001b[1;37m    ^\u001b[0m\n\u001b[1;31mSyntaxError\u001b[0m\u001b[1;31m:\u001b[0m invalid syntax\n"
     ]
    }
   ],
   "source": [
    "# Operadores relacionais\n",
    "\n",
    "== #Igual a \n",
    "> #Maior que \n",
    ">= #Maior igual que\n",
    "< #Menor que\n",
    "<= #Menor ou igual quea\n",
    "!= #Diferente de"
   ]
  },
  {
   "cell_type": "markdown",
   "id": "0007aa81",
   "metadata": {},
   "source": [
    "# Operadores lógicos\n",
    "\n",
    "* and Operador \"E\"\n",
    "* or Operador \"OU\"\n",
    "* not Operador de negação"
   ]
  },
  {
   "cell_type": "code",
   "execution_count": 21,
   "id": "66d6122c",
   "metadata": {},
   "outputs": [
    {
     "ename": "SyntaxError",
     "evalue": "invalid syntax (1556284263.py, line 4)",
     "output_type": "error",
     "traceback": [
      "\u001b[1;36m  Input \u001b[1;32mIn [21]\u001b[1;36m\u001b[0m\n\u001b[1;33m    = Subtração\u001b[0m\n\u001b[1;37m    ^\u001b[0m\n\u001b[1;31mSyntaxError\u001b[0m\u001b[1;31m:\u001b[0m invalid syntax\n"
     ]
    }
   ],
   "source": [
    "# Operadores aritméticos\n",
    "\n",
    "+ Soma\n",
    "= Subtração\n",
    "* Multiplicação\n",
    "/ Divisão\n",
    "** Exponenciação\n",
    "% Módulo (resto da divisão)\n",
    "// Extração da parte inteira da divisão"
   ]
  },
  {
   "cell_type": "code",
   "execution_count": null,
   "id": "2dfa35df",
   "metadata": {},
   "outputs": [],
   "source": [
    "# Operações com strings\n",
    "\n",
    "+ concatena duas strings\n",
    "* repete ums string múltiplas vezes\n",
    "[i] retorna o i-ésimo caractere da string\n",
    "[i:j] retorna a substring que vai dos índices i até j - 1"
   ]
  },
  {
   "cell_type": "code",
   "execution_count": null,
   "id": "d00e27bd",
   "metadata": {},
   "outputs": [],
   "source": [
    "# Composição de strings\n",
    "\n",
    "%d Números inteiros\n",
    "%s Strings\n",
    "%f Números decimais\n",
    "\n",
    "\"Jõao tem %d anos\" %X"
   ]
  },
  {
   "cell_type": "code",
   "execution_count": null,
   "id": "6fda1c1f",
   "metadata": {},
   "outputs": [],
   "source": [
    "# Entrada de dados\n",
    "\n",
    "x = input(\"digite um número: \")\n",
    "print(x)"
   ]
  },
  {
   "cell_type": "code",
   "execution_count": 5,
   "id": "7dd79468",
   "metadata": {},
   "outputs": [],
   "source": [
    "# Atribuindo valores as variáveis x e y\n",
    "x = 0\n",
    "y = 10"
   ]
  },
  {
   "cell_type": "code",
   "execution_count": 8,
   "id": "192013cc",
   "metadata": {},
   "outputs": [
    {
     "name": "stdout",
     "output_type": "stream",
     "text": [
      "sim\n"
     ]
    }
   ],
   "source": [
    "if x < y:              # Verdadeiro\n",
    "    print('sim') "
   ]
  },
  {
   "cell_type": "code",
   "execution_count": 9,
   "id": "e4676119",
   "metadata": {},
   "outputs": [],
   "source": [
    "if x > y:              # Falso\n",
    "    print('sim') "
   ]
  },
  {
   "cell_type": "code",
   "execution_count": 11,
   "id": "234f9d10",
   "metadata": {},
   "outputs": [
    {
     "name": "stdout",
     "output_type": "stream",
     "text": [
      "x é menor ou igual y\n"
     ]
    }
   ],
   "source": [
    "# Utilizando o else \n",
    "\n",
    "x = 10\n",
    "y = 10\n",
    "if x > y: \n",
    "    print(\"x é maior que y\")\n",
    "else: \n",
    "    print(\"x é menor ou igual y\")"
   ]
  },
  {
   "cell_type": "code",
   "execution_count": 12,
   "id": "07605e17",
   "metadata": {},
   "outputs": [
    {
     "name": "stdout",
     "output_type": "stream",
     "text": [
      "Seu nome não é Felipe\n"
     ]
    }
   ],
   "source": [
    "# Utilizando estruturas aninhadas\n",
    "nome = 'Tiago'\n",
    "sobrenome = 'Moreira'\n",
    "ultimonome = 'Assunção'\n",
    "if nome == 'Felipe':\n",
    "    print(\"Felipe\")\n",
    "    if sobrenome == 'Moreira':\n",
    "        print('Moreira')\n",
    "        if ultimonome == 'Assunção':\n",
    "            print('Assunção')\n",
    "            \n",
    "        else:\n",
    "            print(\"Seu último nome não é Assunção\")\n",
    "    else:\n",
    "        print(\"Seu sobrenome não é Moreira\")\n",
    "else:\n",
    "    print(\"Seu nome não é Felipe\")"
   ]
  },
  {
   "cell_type": "code",
   "execution_count": 13,
   "id": "0c211e91",
   "metadata": {},
   "outputs": [
    {
     "name": "stdout",
     "output_type": "stream",
     "text": [
      "a e b são iguais\n"
     ]
    }
   ],
   "source": [
    "# Testando se um númeor é maior ou igual a outro número\n",
    "a = 25\n",
    "b = 25\n",
    "if b > a:\n",
    "    print(\"b é maior que a\")\n",
    "elif a == b: \n",
    "    print(\"a e b são iguais\")"
   ]
  },
  {
   "cell_type": "code",
   "execution_count": 14,
   "id": "f5e0859e",
   "metadata": {},
   "outputs": [
    {
     "name": "stdout",
     "output_type": "stream",
     "text": [
      "banana\n",
      "maçã\n",
      "laranja\n",
      "carambola\n"
     ]
    }
   ],
   "source": [
    "# Imprimindo todos os dados da minha lista\n",
    "frutas = [\"banana\", \"maçã\", \"laranja\", \"carambola\"]\n",
    "for x in frutas:\n",
    "    print(x)"
   ]
  },
  {
   "cell_type": "code",
   "execution_count": 15,
   "id": "be7c1992",
   "metadata": {},
   "outputs": [
    {
     "name": "stdout",
     "output_type": "stream",
     "text": [
      "0\n",
      "1\n",
      "2\n",
      "3\n",
      "4\n"
     ]
    }
   ],
   "source": [
    "# Imprimindo todos os números no intervalo da posição 0 a 5\n",
    "for x in range(5):\n",
    "    print(x)"
   ]
  },
  {
   "cell_type": "code",
   "execution_count": 16,
   "id": "9faf8dc6",
   "metadata": {},
   "outputs": [
    {
     "name": "stdout",
     "output_type": "stream",
     "text": [
      "0\n",
      "1\n",
      "2\n",
      "3\n",
      "4\n"
     ]
    }
   ],
   "source": [
    "# Imprimindo todos os numeros no intervalo da posição 0 a 5\n",
    "i = 0\n",
    "while i < 5:\n",
    "    print(i)\n",
    "    i += 1"
   ]
  },
  {
   "cell_type": "code",
   "execution_count": 17,
   "id": "a61833de",
   "metadata": {},
   "outputs": [
    {
     "name": "stdout",
     "output_type": "stream",
     "text": [
      "Olá, mundo\n"
     ]
    }
   ],
   "source": [
    "# Utilizando o break\n",
    "contador = 1\n",
    "while contador <= 5:\n",
    "    print(\"Olá, mundo\")\n",
    "    contador = contador + 1\n",
    "    break"
   ]
  },
  {
   "cell_type": "code",
   "execution_count": 18,
   "id": "f8df1579",
   "metadata": {},
   "outputs": [
    {
     "name": "stdout",
     "output_type": "stream",
     "text": [
      "s\n",
      "t\n",
      "r\n",
      "n\n",
      "g\n",
      "The end\n"
     ]
    }
   ],
   "source": [
    "# Utilizando o continue\n",
    "for val in \"string\":\n",
    "    if val == \"i\":\n",
    "        continue\n",
    "    print(val)\n",
    "print(\"The end\")"
   ]
  },
  {
   "cell_type": "code",
   "execution_count": null,
   "id": "f213091b",
   "metadata": {},
   "outputs": [],
   "source": [
    "str = 'Mentorama'\n",
    "print(f'Eu estudo na {str}')"
   ]
  }
 ],
 "metadata": {
  "kernelspec": {
   "display_name": "Python 3 (ipykernel)",
   "language": "python",
   "name": "python3"
  },
  "language_info": {
   "codemirror_mode": {
    "name": "ipython",
    "version": 3
   },
   "file_extension": ".py",
   "mimetype": "text/x-python",
   "name": "python",
   "nbconvert_exporter": "python",
   "pygments_lexer": "ipython3",
   "version": "3.9.12"
  }
 },
 "nbformat": 4,
 "nbformat_minor": 5
}
