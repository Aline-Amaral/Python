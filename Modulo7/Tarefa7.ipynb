{
 "cells": [
  {
   "cell_type": "code",
   "execution_count": 25,
   "metadata": {},
   "outputs": [
    {
     "data": {
      "text/plain": [
       "time.struct_time(tm_year=1970, tm_mon=1, tm_mday=1, tm_hour=0, tm_min=0, tm_sec=0, tm_wday=3, tm_yday=1, tm_isdst=0)"
      ]
     },
     "execution_count": 25,
     "metadata": {},
     "output_type": "execute_result"
    }
   ],
   "source": [
    "# 1. Escreva scripts para mostrar os diversos formatos de tempo conforme se segue:\n",
    "# a) Impressão da época padrão\n",
    "import time\n",
    "time.gmtime(0)"
   ]
  },
  {
   "cell_type": "code",
   "execution_count": 26,
   "metadata": {},
   "outputs": [
    {
     "name": "stdout",
     "output_type": "stream",
     "text": [
      "Segundos passados desde a época: 1654297149.8435087\n"
     ]
    }
   ],
   "source": [
    "# b) Segundos que se passaram desde a época\n",
    "segundos = time.time()\n",
    "print(f\"Segundos passados desde a época: {segundos}\")"
   ]
  },
  {
   "cell_type": "code",
   "execution_count": 27,
   "metadata": {},
   "outputs": [
    {
     "name": "stdout",
     "output_type": "stream",
     "text": [
      "Tempo no momento atual: Fri Jun  3 19:59:11 2022\n"
     ]
    }
   ],
   "source": [
    "# c) Imprime dados do tempo no momento atual\n",
    "print(f\"Tempo no momento atual: {time.asctime()}\")"
   ]
  },
  {
   "cell_type": "code",
   "execution_count": 28,
   "metadata": {},
   "outputs": [
    {
     "name": "stdout",
     "output_type": "stream",
     "text": [
      "Horas, minutos e segundos, respectivamente: (19, 59, 13)\n"
     ]
    }
   ],
   "source": [
    "# d) Cria um objeto time.localtime() e imprime o valor das horas, minutos e segundos\n",
    "tempo = time.localtime()\n",
    "print(f\"Horas, minutos e segundos, respectivamente: {tempo[3:6]}\")"
   ]
  },
  {
   "cell_type": "code",
   "execution_count": 33,
   "metadata": {},
   "outputs": [
    {
     "name": "stdout",
     "output_type": "stream",
     "text": [
      "Não estamos em horário de verão\n"
     ]
    }
   ],
   "source": [
    "# e) Imprime se no momento atual estamos em horário de verão ou não\n",
    "import time\n",
    "if tempo.tm_isdst == 0 :\n",
    "    print(\"Não estamos em horário de verão\")\n",
    "else:\n",
    "    print(\"Estamos em horário de verão\")"
   ]
  },
  {
   "cell_type": "code",
   "execution_count": 37,
   "metadata": {},
   "outputs": [
    {
     "name": "stdout",
     "output_type": "stream",
     "text": [
      "Olá, mundo!\n",
      "Olá, mundo!\n",
      "Olá, mundo!\n",
      "Olá, mundo!\n",
      "Olá, mundo!\n"
     ]
    }
   ],
   "source": [
    "# 2. Escreva um programa para imprimir uma string \"Olá, mundo!\" cinco vezes, em que cada\n",
    "# uma das impressões demore três segundos entre uma e outra\n",
    "import time\n",
    "i = 0\n",
    "while i < 5:\n",
    "    print(\"Olá, mundo!\")\n",
    "    time.sleep(3)\n",
    "    i += 1"
   ]
  },
  {
   "cell_type": "code",
   "execution_count": 39,
   "metadata": {},
   "outputs": [
    {
     "name": "stdout",
     "output_type": "stream",
     "text": [
      "Olá, mundo!\n",
      "Olá, mundo!\n",
      "Olá, mundo!\n",
      "Olá, mundo!\n",
      "Olá, mundo!\n",
      "O tempo de processameno do script é: 15.033997774124146\n"
     ]
    }
   ],
   "source": [
    "# 3. Adapte o programa acima para calcular o tempo de processamento do script. Utilize\n",
    "# time.time() e perf_counter() para apresentar a variação do tempo\n",
    "import time\n",
    "start_exec = time.time()\n",
    "i = 0\n",
    "while i < 5:\n",
    "    print(\"Olá, mundo!\")\n",
    "    time.sleep(3)\n",
    "    i += 1\n",
    "end_exec = time.time()\n",
    "print(f\"O tempo de processameno do script é: {end_exec - start_exec}\")"
   ]
  },
  {
   "cell_type": "code",
   "execution_count": 42,
   "metadata": {},
   "outputs": [
    {
     "name": "stdout",
     "output_type": "stream",
     "text": [
      "9 days, 0:00:00\n"
     ]
    }
   ],
   "source": [
    "# 4. Escreva um programa para obter uma lista de datas entre duas datas. Considere o passo de\n",
    "# um dia e reproduza o intervalo das datas entre 16/10/87 e 25/10/87\n",
    "import datetime\n",
    "\n",
    "from datetime import datetime, timedelta\n",
    "fim = datetime(1987, 10, 25)\n",
    "inicio = datetime(1987, 10, 16)\n",
    "delta = fim-inicio\n",
    "print(delta)"
   ]
  },
  {
   "cell_type": "code",
   "execution_count": 48,
   "metadata": {},
   "outputs": [
    {
     "name": "stdout",
     "output_type": "stream",
     "text": [
      "2022-06-03 21:48:53.708151\n"
     ]
    }
   ],
   "source": [
    "# 5. Escreva scripts para mostrar os diversos formatos de data e tempo conforme se segue:\n",
    "# a) Data e hora atual\n",
    "import datetime\n",
    "from datetime import datetime\n",
    "print(datetime.now())"
   ]
  },
  {
   "cell_type": "code",
   "execution_count": 50,
   "metadata": {},
   "outputs": [
    {
     "name": "stdout",
     "output_type": "stream",
     "text": [
      "2022\n"
     ]
    }
   ],
   "source": [
    "# b) Ano atual\n",
    "import datetime\n",
    "ano = datetime.datetime.now().year\n",
    "print(f\"O ano atual é: {ano}\")"
   ]
  },
  {
   "cell_type": "code",
   "execution_count": 66,
   "metadata": {},
   "outputs": [
    {
     "name": "stdout",
     "output_type": "stream",
     "text": [
      "O mês atual é: June\n"
     ]
    }
   ],
   "source": [
    "# c) Mês atual\n",
    "from datetime import datetime\n",
    "mes = datetime.now().strftime(\"%B\")\n",
    "print(f\"O mês atual é: {mes}\")"
   ]
  },
  {
   "cell_type": "code",
   "execution_count": 55,
   "metadata": {},
   "outputs": [
    {
     "name": "stdout",
     "output_type": "stream",
     "text": [
      "O número da semana atual é: 22\n"
     ]
    }
   ],
   "source": [
    "# d) Número da semana do ano\n",
    "import datetime\n",
    "semana = datetime.date.today().isocalendar()[1]\n",
    "print(f\"O número da semana atual é: {semana}\")"
   ]
  },
  {
   "cell_type": "code",
   "execution_count": 64,
   "metadata": {},
   "outputs": [
    {
     "name": "stdout",
     "output_type": "stream",
     "text": [
      "O dia atual da semana é: Friday\n"
     ]
    }
   ],
   "source": [
    "# e) Dia atual da semana\n",
    "from datetime import datetime\n",
    "diaSemana = datetime.now().strftime(\"%A\")\n",
    "print(f\"O dia atual da semana é: {diaSemana}\")"
   ]
  },
  {
   "cell_type": "code",
   "execution_count": 58,
   "metadata": {},
   "outputs": [
    {
     "name": "stdout",
     "output_type": "stream",
     "text": [
      "O dia atual do ano é: 154\n"
     ]
    }
   ],
   "source": [
    "# f) Dia do ano\n",
    "from datetime import datetime\n",
    "diaDoAno = datetime.now().timetuple().tm_yday\n",
    "print(f\"O dia atual do ano é: {diaDoAno}\")"
   ]
  },
  {
   "cell_type": "code",
   "execution_count": 61,
   "metadata": {},
   "outputs": [
    {
     "name": "stdout",
     "output_type": "stream",
     "text": [
      "O dia atual do mês é: 03\n"
     ]
    }
   ],
   "source": [
    "# g) Dia do mês\n",
    "from datetime import datetime\n",
    "diaMes = datetime.now().strftime(\"%d\")\n",
    "print(f\"O dia atual do mês é: {diaMes}\")"
   ]
  },
  {
   "cell_type": "code",
   "execution_count": 63,
   "metadata": {},
   "outputs": [
    {
     "name": "stdout",
     "output_type": "stream",
     "text": [
      "O dia atual da semana é: 5\n"
     ]
    }
   ],
   "source": [
    "# h) Dia da semana\n",
    "import datetime\n",
    "diaDaSemana = datetime.date.today().isoweekday()\n",
    "print(f\"O dia atual da semana é: {diaDaSemana}\")"
   ]
  },
  {
   "cell_type": "code",
   "execution_count": 77,
   "metadata": {},
   "outputs": [
    {
     "name": "stdout",
     "output_type": "stream",
     "text": [
      "2021-01-01 13:53:00\n"
     ]
    }
   ],
   "source": [
    "# 6. Escreva um programa Python capaz de converter uma string em data e hora.\n",
    "# • String de exemplo: 01 de janeiro de 2021 13h53\n",
    "# • Resultado esperado: 2021-01-01 13:53:00\n",
    "import locale\n",
    "from datetime import datetime\n",
    "locale.setlocale(locale.LC_ALL, 'pt_BR.UTF-8')\n",
    "saida = datetime.strptime(\"01 de janeiro de 2021 13h53\", '%d de %B de %Y %Hh%M')\n",
    "print (saida)"
   ]
  },
  {
   "cell_type": "code",
   "execution_count": 84,
   "metadata": {},
   "outputs": [
    {
     "name": "stdout",
     "output_type": "stream",
     "text": [
      "2021-01-17\n"
     ]
    }
   ],
   "source": [
    "# 7. Escreva um programa Python para subtrair 8 dias da data atual.\n",
    "# • Data atual: 25/01/2021\n",
    "# • Data esperada: 17/01/2021\n",
    "from datetime import datetime, timedelta\n",
    "d = datetime(2021, 1, 25) - timedelta(days=8)\n",
    "print(d.date())"
   ]
  },
  {
   "cell_type": "code",
   "execution_count": 87,
   "metadata": {},
   "outputs": [
    {
     "name": "stdout",
     "output_type": "stream",
     "text": [
      "10 days, 22:33:37.068094\n"
     ]
    }
   ],
   "source": [
    "# 8. Escreva um programa Python para calcular o número de dias entre dois datetimes. A\n",
    "# diferença entre os dias deve ser igual a 10.\n",
    "from datetime import datetime, timedelta\n",
    "hoje = datetime.now()\n",
    "diaPassado = datetime(2022, 5, 24)\n",
    "delta = hoje-diaPassado\n",
    "print(delta)"
   ]
  },
  {
   "cell_type": "code",
   "execution_count": 89,
   "metadata": {},
   "outputs": [
    {
     "name": "stdout",
     "output_type": "stream",
     "text": [
      "Diferença de dias entre antes de ontem e depois de amanhã: 4 days, 0:00:00\n"
     ]
    }
   ],
   "source": [
    "# 9. Faça um programa que calcule a diferença em dias entre antes de ontem e depois de\n",
    "# amanhã.\n",
    "import datetime\n",
    "hoje = datetime.date.today()\n",
    "antesDeOntem = hoje - datetime.timedelta(days=2)\n",
    "depoisDeAmanha = hoje + datetime.timedelta(days=2)\n",
    "print(\"Diferença de dias entre antes de ontem e depois de amanhã:\", depoisDeAmanha - antesDeOntem)"
   ]
  }
 ],
 "metadata": {
  "kernelspec": {
   "display_name": "Python 3 (ipykernel)",
   "language": "python",
   "name": "python3"
  },
  "language_info": {
   "codemirror_mode": {
    "name": "ipython",
    "version": 3
   },
   "file_extension": ".py",
   "mimetype": "text/x-python",
   "name": "python",
   "nbconvert_exporter": "python",
   "pygments_lexer": "ipython3",
   "version": "3.9.12"
  },
  "orig_nbformat": 4
 },
 "nbformat": 4,
 "nbformat_minor": 2
}
