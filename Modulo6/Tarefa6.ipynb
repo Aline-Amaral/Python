{
 "cells": [
  {
   "cell_type": "code",
   "execution_count": 13,
   "metadata": {},
   "outputs": [],
   "source": [
    "# Conexao ao banco de dados e criacao do cursor para utilizar SQL\n",
    "import sqlite3\n",
    "banco = sqlite3.connect('tarefa.db')\n",
    "\n",
    "cursor = banco.cursor()\n",
    "\n",
    "# Criacao da tabela 'funcionarios' com os campos (Codigo, PrimeiroNome, SegundoNome, UltimoNome,\n",
    "# DataNasci, CPF, RG, Endereco, CEP, Cidade, Fone, CodigoDepartamento, Funcao, Salario)\n",
    "# cursor.execute(\"CREATE TABLE funcionarios (codigo integer, primeiroNome text, segundoNome text, ultimoNome text, dataNasci date, CPF text, RG text, endereco text, CEP text, cidade text, fone text, codigoDepartamento text, funcao text, salario money)\")\n",
    "\n",
    "# Criacao da tabela 'departamentos' com os campos (Codigo, Nome, Localizacao, CodigoFuncionarioGerente)\n",
    "# cursor.execute(\"CREATE TABLE departamentos (codigo integer, nome text, localizacao text, codigoFuncionarioGerente integer)\")"
   ]
  },
  {
   "cell_type": "code",
   "execution_count": 19,
   "metadata": {},
   "outputs": [
    {
     "name": "stdout",
     "output_type": "stream",
     "text": [
      "[('Ana', 'Alves'), ('Alice', 'Ferreira'), ('Samuel', 'Gomes'), ('Davi', 'Lima'), ('Julia', 'Martins'), ('Gael', 'Oliveira'), ('Heitor', 'Rodrigues'), ('Arthur', 'Santos'), ('Miguel', 'Silva'), ('Maria', 'Souza')]\n"
     ]
    }
   ],
   "source": [
    "# Listar nome e sobrenome ordenado por sobrenome\n",
    "cursor.execute(\"SELECT primeiroNome, ultimoNome FROM funcionarios ORDER BY ultimoNome ASC\")\n",
    "print (cursor.fetchall())"
   ]
  },
  {
   "cell_type": "code",
   "execution_count": 20,
   "metadata": {},
   "outputs": [
    {
     "name": "stdout",
     "output_type": "stream",
     "text": [
      "[(1, 'Miguel', None, 'Silva', '1990-03-04', '10000000000', '100000000', 'Rua Miguel Silva, 1', '10000000', 'Belo Horizonte', '111111111', '2', 'Recrutador', 5000), (3, 'Gael', None, 'Oliveira', '1983-10-08', '30000000000', '300000000', 'Rua Gael Oliveira, 3', '30000000', 'Belo Horizonte', '111111113', '2', 'Recrutador', 5000), (9, 'Samuel', None, 'Gomes', '1993-06-09', '90000000000', '900000000', 'Rua Samuel Gomes, 9', '90000000', 'Belo Horizonte', '111111119', '2', 'Gerente', 10000), (6, 'Alice', None, 'Ferreira', '2000-01-29', '60000000000', '600000000', 'Rua Alice Ferreira, 6', '60000000', 'Curitiba', '111111116', '3', 'Gerente', 10000), (7, 'Ana', 'Laura', 'Alves', '1987-12-24', '70000000000', '700000000', 'Rua Ana Laura Alves, 7', '70000000', 'Curitiba', '111111117', '3', 'Adm', 4500), (10, 'Julia', None, 'Martins', '1989-07-01', '00000000000', '000000000', 'Rua Julia Martins, 0', '00000000', 'Fortaleza', '111111110', '5', 'Diretor', 25000), (4, 'Maria', 'Helena', 'Souza', '1994-09-25', '40000000000', '400000000', 'Rua Maria Helena Souza, 4', '40000000', 'Goiânia', '111111114', '1', 'Desenvolvedor', 4000), (8, 'Davi', 'Gabriel', 'Lima', '1992-10-05', '80000000000', '800000000', 'Rua Davi Gabriel Lima, 8', '80000000', 'Porto Alegre', '111111118', '4', 'Gerente', 4500), (2, 'Arthur', None, 'Santos', '1996-06-26', '20000000000', '200000000', 'Rua Arthur Santos, 2', '20000000', 'Rio de Janeiro', '111111112', '4', 'Tester', 4000), (5, 'Heitor', None, 'Rodrigues', '1994-03-12', '50000000000', '500000000', 'Rua Heitor Rodrigues, 5', '50000000', 'Uberlândia', '111111115', '1', 'Gerente', 10000)]\n"
     ]
    }
   ],
   "source": [
    "# Listar todos os campos de funcionários ordenados por cidade\n",
    "cursor.execute(\"SELECT * FROM funcionarios ORDER BY cidade ASC\")\n",
    "print (cursor.fetchall())"
   ]
  },
  {
   "cell_type": "code",
   "execution_count": 21,
   "metadata": {},
   "outputs": [
    {
     "name": "stdout",
     "output_type": "stream",
     "text": [
      "[('Alice', 'Ferreira'), ('Ana', 'Alves'), ('Arthur', 'Santos'), ('Davi', 'Lima'), ('Gael', 'Oliveira'), ('Heitor', 'Rodrigues'), ('Julia', 'Martins'), ('Maria', 'Souza'), ('Miguel', 'Silva'), ('Samuel', 'Gomes')]\n"
     ]
    }
   ],
   "source": [
    "# Liste os funcionários que têm salário superior a R$ 1.000,00 ordenados pelo nome completo\n",
    "sql = \"\"\"\n",
    "SELECT primeiroNome, ultimoNome \n",
    "FROM funcionarios \n",
    "WHERE salario > 1000\n",
    "ORDER BY primeiroNome ASC\n",
    "\"\"\"\n",
    "cursor.execute(sql)\n",
    "print (cursor.fetchall())"
   ]
  },
  {
   "cell_type": "code",
   "execution_count": 23,
   "metadata": {},
   "outputs": [
    {
     "name": "stdout",
     "output_type": "stream",
     "text": [
      "[('2000-01-29', 'Alice'), ('1996-06-26', 'Arthur'), ('1994-09-25', 'Maria'), ('1994-03-12', 'Heitor'), ('1993-06-09', 'Samuel'), ('1992-10-05', 'Davi'), ('1990-03-04', 'Miguel'), ('1989-07-01', 'Julia'), ('1987-12-24', 'Ana'), ('1983-10-08', 'Gael')]\n"
     ]
    }
   ],
   "source": [
    "# Liste a data de nascimento e o primeiro nome dos funcionários ordenados do mais novo para o mais velho\n",
    "sql = \"\"\"\n",
    "SELECT dataNasci, \n",
    "primeiroNome\n",
    "FROM funcionarios \n",
    "ORDER BY dataNasci DESC\n",
    "\"\"\"\n",
    "cursor.execute(sql)\n",
    "print (cursor.fetchall())"
   ]
  },
  {
   "cell_type": "code",
   "execution_count": 27,
   "metadata": {},
   "outputs": [
    {
     "name": "stdout",
     "output_type": "stream",
     "text": [
      "[(82000,)]\n"
     ]
    }
   ],
   "source": [
    "# Liste o total da folha de pagamento\n",
    "cursor.execute(\"SELECT SUM(salario) FROM funcionarios\")\n",
    "print (cursor.fetchall())"
   ]
  },
  {
   "cell_type": "code",
   "execution_count": 28,
   "metadata": {},
   "outputs": [
    {
     "name": "stdout",
     "output_type": "stream",
     "text": [
      "[('Miguel', 'TI', 'Recrutador'), ('Miguel', 'RH', 'Recrutador'), ('Miguel', 'Diretoria', 'Recrutador'), ('Miguel', 'Administração', 'Recrutador'), ('Miguel', 'QA', 'Recrutador'), ('Arthur', 'TI', 'Tester'), ('Arthur', 'RH', 'Tester'), ('Arthur', 'Diretoria', 'Tester'), ('Arthur', 'Administração', 'Tester'), ('Arthur', 'QA', 'Tester'), ('Gael', 'TI', 'Recrutador'), ('Gael', 'RH', 'Recrutador'), ('Gael', 'Diretoria', 'Recrutador'), ('Gael', 'Administração', 'Recrutador'), ('Gael', 'QA', 'Recrutador'), ('Maria', 'TI', 'Desenvolvedor'), ('Maria', 'RH', 'Desenvolvedor'), ('Maria', 'Diretoria', 'Desenvolvedor'), ('Maria', 'Administração', 'Desenvolvedor'), ('Maria', 'QA', 'Desenvolvedor'), ('Heitor', 'TI', 'Gerente'), ('Heitor', 'RH', 'Gerente'), ('Heitor', 'Diretoria', 'Gerente'), ('Heitor', 'Administração', 'Gerente'), ('Heitor', 'QA', 'Gerente'), ('Alice', 'TI', 'Gerente'), ('Alice', 'RH', 'Gerente'), ('Alice', 'Diretoria', 'Gerente'), ('Alice', 'Administração', 'Gerente'), ('Alice', 'QA', 'Gerente'), ('Ana', 'TI', 'Adm'), ('Ana', 'RH', 'Adm'), ('Ana', 'Diretoria', 'Adm'), ('Ana', 'Administração', 'Adm'), ('Ana', 'QA', 'Adm'), ('Davi', 'TI', 'Gerente'), ('Davi', 'RH', 'Gerente'), ('Davi', 'Diretoria', 'Gerente'), ('Davi', 'Administração', 'Gerente'), ('Davi', 'QA', 'Gerente'), ('Samuel', 'TI', 'Gerente'), ('Samuel', 'RH', 'Gerente'), ('Samuel', 'Diretoria', 'Gerente'), ('Samuel', 'Administração', 'Gerente'), ('Samuel', 'QA', 'Gerente'), ('Julia', 'TI', 'Diretor'), ('Julia', 'RH', 'Diretor'), ('Julia', 'Diretoria', 'Diretor'), ('Julia', 'Administração', 'Diretor'), ('Julia', 'QA', 'Diretor')]\n"
     ]
    }
   ],
   "source": [
    "# Liste o nome, o nome do departamento e a função de todos os funcionários\n",
    "sql = \"\"\"\n",
    "SELECT f.primeiroNome, \n",
    "d.nome,\n",
    "f.funcao\n",
    "FROM funcionarios f\n",
    "INNER JOIN departamentos d\n",
    "\"\"\"\n",
    "cursor.execute(sql)\n",
    "print (cursor.fetchall())"
   ]
  },
  {
   "cell_type": "code",
   "execution_count": 29,
   "metadata": {},
   "outputs": [
    {
     "name": "stdout",
     "output_type": "stream",
     "text": [
      "[(10,)]\n"
     ]
    }
   ],
   "source": [
    "# Liste o nome, o nome do departamento e a função de todos os funcionários\n",
    "sql = \"\"\"\n",
    "SELECT COUNT(codigo)\n",
    "FROM funcionarios\n",
    "\"\"\"\n",
    "cursor.execute(sql)\n",
    "print (cursor.fetchall())"
   ]
  },
  {
   "cell_type": "code",
   "execution_count": null,
   "metadata": {},
   "outputs": [],
   "source": [
    "#cursor.execute(\"INSERT INTO funcionarios VALUES ()\")\n",
    "\n",
    "# Listar nome e sobrenome ordenado por sobrenome\n",
    "# Listar todos os campos de funcionários ordenados por cidade\n",
    "# Liste os funcionários que têm salário superior a R$ 1.000,00 ordenados pelo nome completo\n",
    "# Liste a data de nascimento e o primeiro nome dos funcionários ordenados do mais novo para o mais velho\n",
    "# Liste o total da folha de pagamento\n",
    "# Liste o nome, o nome do departamento e a função de todos os funcionários\n",
    "# Liste a quantidade de funcionários desta empresa\n",
    "# Liste o nome do departamento e do funcionário ordenados por departamento e funcionário"
   ]
  },
  {
   "cell_type": "code",
   "execution_count": 31,
   "metadata": {},
   "outputs": [
    {
     "name": "stdout",
     "output_type": "stream",
     "text": [
      "[('Alice', 'Administração'), ('Ana', 'Administração'), ('Arthur', 'Administração'), ('Davi', 'Administração'), ('Gael', 'Administração'), ('Heitor', 'Administração'), ('Julia', 'Administração'), ('Maria', 'Administração'), ('Miguel', 'Administração'), ('Samuel', 'Administração'), ('Alice', 'Diretoria'), ('Ana', 'Diretoria'), ('Arthur', 'Diretoria'), ('Davi', 'Diretoria'), ('Gael', 'Diretoria'), ('Heitor', 'Diretoria'), ('Julia', 'Diretoria'), ('Maria', 'Diretoria'), ('Miguel', 'Diretoria'), ('Samuel', 'Diretoria'), ('Alice', 'QA'), ('Ana', 'QA'), ('Arthur', 'QA'), ('Davi', 'QA'), ('Gael', 'QA'), ('Heitor', 'QA'), ('Julia', 'QA'), ('Maria', 'QA'), ('Miguel', 'QA'), ('Samuel', 'QA'), ('Alice', 'RH'), ('Ana', 'RH'), ('Arthur', 'RH'), ('Davi', 'RH'), ('Gael', 'RH'), ('Heitor', 'RH'), ('Julia', 'RH'), ('Maria', 'RH'), ('Miguel', 'RH'), ('Samuel', 'RH'), ('Alice', 'TI'), ('Ana', 'TI'), ('Arthur', 'TI'), ('Davi', 'TI'), ('Gael', 'TI'), ('Heitor', 'TI'), ('Julia', 'TI'), ('Maria', 'TI'), ('Miguel', 'TI'), ('Samuel', 'TI')]\n"
     ]
    }
   ],
   "source": [
    "# Liste o nome do departamento e do funcionário ordenados por departamento e funcionário\n",
    "sql = \"\"\"\n",
    "SELECT f.primeiroNome, \n",
    "d.nome\n",
    "FROM funcionarios f\n",
    "INNER JOIN departamentos d\n",
    "ORDER BY d.nome ASC, f.primeiroNome ASC\n",
    "\"\"\"\n",
    "cursor.execute(sql)\n",
    "print (cursor.fetchall())"
   ]
  }
 ],
 "metadata": {
  "kernelspec": {
   "display_name": "Python 3 (ipykernel)",
   "language": "python",
   "name": "python3"
  },
  "language_info": {
   "codemirror_mode": {
    "name": "ipython",
    "version": 3
   },
   "file_extension": ".py",
   "mimetype": "text/x-python",
   "name": "python",
   "nbconvert_exporter": "python",
   "pygments_lexer": "ipython3",
   "version": "3.9.12"
  },
  "orig_nbformat": 4
 },
 "nbformat": 4,
 "nbformat_minor": 2
}
