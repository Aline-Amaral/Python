{
 "cells": [
  {
   "cell_type": "markdown",
   "metadata": {},
   "source": [
    "Nos exercícios a seguir, iremos trabalhar com a inicialização de threads de forma simples,\n",
    "utilizando funções, classes dentre outros\n",
    "Nesta etapa, iremos trabalhar com alguns objetos threads que podem ser consultados em\n",
    "https://docs.python.org/3/library/threading.html\n",
    "Antes de iniciar a resolução dos exercícios, não se esqueça de iniciar cada uma das bibliotecas"
   ]
  },
  {
   "cell_type": "code",
   "execution_count": 19,
   "metadata": {},
   "outputs": [
    {
     "name": "stdout",
     "output_type": "stream",
     "text": [
      "Processo 1\n"
     ]
    }
   ],
   "source": [
    "# 1. Crie uma função proc1 que imprime a mensagem \"Processo 1\" e siga as instruções:\n",
    "# a) Inicialize essa função a partir de um objeto thread t1\n",
    "from threading import Thread\n",
    "import threading\n",
    "\n",
    "def proc1():\n",
    "    print(\"Processo 1\")\n",
    "t1 = Thread(target=proc1)\n",
    "t1.start()"
   ]
  },
  {
   "cell_type": "code",
   "execution_count": 20,
   "metadata": {},
   "outputs": [
    {
     "data": {
      "text/plain": [
       "True"
      ]
     },
     "execution_count": 20,
     "metadata": {},
     "output_type": "execute_result"
    }
   ],
   "source": [
    "# b) Consulte se o objeto thread criado está ativo\n",
    "t1.is_alive()"
   ]
  },
  {
   "cell_type": "code",
   "execution_count": 21,
   "metadata": {},
   "outputs": [
    {
     "data": {
      "text/plain": [
       "<_MainThread(MainThread, started 28664)>"
      ]
     },
     "execution_count": 21,
     "metadata": {},
     "output_type": "execute_result"
    }
   ],
   "source": [
    "# c) Consulte o nome da thread ativa atualmente\n",
    "threading.currentThread()"
   ]
  },
  {
   "cell_type": "code",
   "execution_count": 22,
   "metadata": {},
   "outputs": [
    {
     "data": {
      "text/plain": [
       "28664"
      ]
     },
     "execution_count": 22,
     "metadata": {},
     "output_type": "execute_result"
    }
   ],
   "source": [
    "# d) Consulte o identificador de thead do thread atual\n",
    "threading.get_ident() "
   ]
  },
  {
   "cell_type": "code",
   "execution_count": 23,
   "metadata": {},
   "outputs": [
    {
     "data": {
      "text/plain": [
       "7"
      ]
     },
     "execution_count": 23,
     "metadata": {},
     "output_type": "execute_result"
    }
   ],
   "source": [
    "# e) Consulte a quantidade de threads ativas atualmente\n",
    "threading.active_count()"
   ]
  },
  {
   "cell_type": "code",
   "execution_count": 24,
   "metadata": {},
   "outputs": [
    {
     "data": {
      "text/plain": [
       "[<_MainThread(MainThread, started 28664)>,\n",
       " <Thread(IOPub, started daemon 12812)>,\n",
       " <Heartbeat(Heartbeat, started daemon 11972)>,\n",
       " <ControlThread(Control, started daemon 28432)>,\n",
       " <HistorySavingThread(IPythonHistorySavingThread, started 21664)>,\n",
       " <ParentPollerWindows(Thread-4, started daemon 26828)>,\n",
       " <Thread(Thread-19, started 22612)>]"
      ]
     },
     "execution_count": 24,
     "metadata": {},
     "output_type": "execute_result"
    }
   ],
   "source": [
    "# f) Retorne uma lista com todos os threads ativos atualmente\n",
    "threading.enumerate() "
   ]
  },
  {
   "cell_type": "code",
   "execution_count": 74,
   "metadata": {},
   "outputs": [
    {
     "name": "stdout",
     "output_type": "stream",
     "text": [
      "Processo 1Processo 2\n",
      "\n"
     ]
    }
   ],
   "source": [
    "# 2. Crie duas funções, proc1 e proc2 que imprime a mensagem \"Processo 1\" e \"Processo 2\"\n",
    "# respectivamente e siga as instruções:\n",
    "# a) Inicialize as funções a partir de um objeto Thread t1 e t2 respectivamente\n",
    "from threading import Thread\n",
    "import threading\n",
    "import time\n",
    "def proc1():\n",
    "    print(\"Processo 1\")\n",
    "\n",
    "def proc2():\n",
    "    print(\"Processo 2\")\n",
    "\n",
    "t1 = Thread(target=proc1)\n",
    "t1.start()\n",
    "t2 = Thread(target=proc2)\n",
    "t2.start()"
   ]
  },
  {
   "cell_type": "code",
   "execution_count": 75,
   "metadata": {},
   "outputs": [
    {
     "name": "stdout",
     "output_type": "stream",
     "text": [
      "False\n",
      "False\n"
     ]
    }
   ],
   "source": [
    "# b) Consulte se os objetos criados estão ativos\n",
    "print(t1.is_alive())\n",
    "print(t2.is_alive())"
   ]
  },
  {
   "cell_type": "code",
   "execution_count": 79,
   "metadata": {},
   "outputs": [],
   "source": [
    "# c) Importe o modulo time e crie um delay de tempo em cada uma das funções, sendo sleep\n",
    "# 5 e 30 segundos em proc1 e proc2 respectivamente\n",
    "from threading import Thread\n",
    "import threading\n",
    "import time\n",
    "def proc1():\n",
    "    time.sleep(5)\n",
    "    print(\"Processo 1\")\n",
    "\n",
    "def proc2():\n",
    "    time.sleep(30)\n",
    "    print(\"Processo 2\")\n",
    "\n",
    "\n",
    "t1 = Thread(target=proc1)\n",
    "t1.start()\n",
    "t2 = Thread(target=proc2)\n",
    "t2.start()"
   ]
  },
  {
   "cell_type": "code",
   "execution_count": 81,
   "metadata": {},
   "outputs": [
    {
     "name": "stdout",
     "output_type": "stream",
     "text": [
      "False\n",
      "True\n",
      "Processo 2\n"
     ]
    }
   ],
   "source": [
    "# d) Consulte rapidamente (antes de 30 segundos) se cada um dos objetos thread está ativo\n",
    "# e imprima na tela\n",
    "print(t1.is_alive())\n",
    "print(t2.is_alive())"
   ]
  },
  {
   "cell_type": "markdown",
   "metadata": {},
   "source": [
    "3. Responda as questões a seguir:\n",
    "\n",
    "a) O que é o problema do produtor consumidor e como podemos resolver este problema com\n",
    "threads?\n",
    "Também chamado de problema do buffer limitado, o problema do produtor/consumidor ocorre quando um conjunto de processos compartilham um mesmo buffer com capacidade de armazenamento limitada. O produtor deposita informação no buffer, já o consumidor retira informação do buffer. O problema ocorre quando o produtor ou consumidor opera em um ritmo diferente do seu complementar. \n",
    "Para solucionar esse problema utilizando threads é necessário abordar três aspectos de coordenação dos processos:\n",
    "Apenas um processo deve ter acesso ao buffer por vez, para evitar disputa entre os processos.\n",
    "Suspensão do produtor caso o buffer esteja cheio, limitando o produtor até existir espaço livre no buffer.\n",
    "Suspensão do consumidor caso o buffer esteja vaizo, limitando o consumidor até existir algum item no buffer.\n",
    "\n",
    "\n",
    "b) Indique mais um problema clássico da computação e como podemos resolve-los com threads\n",
    "explicando de forma detalhada\n",
    "O problema dos leitores e escritores consiste em: uma estrutura de dados pode ser lida e modificada simultaneamente por processos concorrentes. Os processos leitores somente realizam a leitura e os processos escritores somente realizam a escrita. Somente um escritor pode acessar a estrutura de dados a qualquer momento. Quando nenhum escritor está ativo qualquer número de leitores pode acessar a estrutura de dados.\n",
    "Para solucionar essa situação usando threads, um escritor deve ter acesso exclusivo ao objeto quando o acessa, nenhum leitor ou outro escritor deve poder acessá-lo. Porém, diversos leitores podem acessar o objeto ao mesmo tempo. "
   ]
  }
 ],
 "metadata": {
  "kernelspec": {
   "display_name": "Python 3 (ipykernel)",
   "language": "python",
   "name": "python3"
  },
  "language_info": {
   "codemirror_mode": {
    "name": "ipython",
    "version": 3
   },
   "file_extension": ".py",
   "mimetype": "text/x-python",
   "name": "python",
   "nbconvert_exporter": "python",
   "pygments_lexer": "ipython3",
   "version": "3.9.12"
  },
  "orig_nbformat": 4
 },
 "nbformat": 4,
 "nbformat_minor": 2
}
