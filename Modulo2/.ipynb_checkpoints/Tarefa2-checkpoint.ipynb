{
 "cells": [
  {
   "cell_type": "code",
   "execution_count": 13,
   "id": "02c5ad30",
   "metadata": {},
   "outputs": [
    {
     "name": "stdout",
     "output_type": "stream",
     "text": [
      "Digite o nome: Aline\n",
      "Digite o sexo: (M/F) F\n",
      "Digite a idade: 25\n",
      "Deseja continuar inserindo dados? (S/N) N\n",
      "<class 'int'>\n",
      "Número de pessoas cadastradas: 1\n"
     ]
    }
   ],
   "source": [
    "# 1. Crie um programa que leia nome, sexo e idade de várias pessoas, guardando os dados\n",
    "#    de cada pessoa em um dicionário e todos os dicionários em uma lista. No final, mostre:\n",
    "# a) Quantas pessoas foram cadastradas\n",
    "\n",
    "continuar = 'S'\n",
    "listaDados = []\n",
    "\n",
    "while (continuar == 'S' or continuar == 's'):\n",
    "    dados = {\n",
    "        \"nome\": input(\"Digite o nome: \"),\n",
    "        \"sexo\": input(\"Digite o sexo: (M/F) \").upper(),\n",
    "        \"idade\": int(input(\"Digite a idade: \"))\n",
    "    }\n",
    "    listaDados.append(dados)\n",
    "    continuar = input('Deseja continuar inserindo dados? (S/N) ').upper()\n",
    "quantidade = len(listaDados)\n",
    "\n",
    "print(\"Número de pessoas cadastradas: %d\" %quantidade) "
   ]
  },
  {
   "cell_type": "code",
   "execution_count": 31,
   "id": "7ced8654",
   "metadata": {},
   "outputs": [
    {
     "name": "stdout",
     "output_type": "stream",
     "text": [
      "Digite o nome: Aline\n",
      "Digite o sexo: (M/F) F\n",
      "Digite a idade: 25\n",
      "Deseja continuar inserindo dados? (S/N) S\n",
      "Digite o nome: Mud\n",
      "Digite o sexo: (M/F) M\n",
      "Digite a idade: 26\n",
      "Deseja continuar inserindo dados? (S/N) S\n",
      "Digite o nome: Alex\n",
      "Digite o sexo: (M/F) F\n",
      "Digite a idade: 24\n",
      "Deseja continuar inserindo dados? (S/N) N\n",
      "Média da idade das pessoas cadastradas: 25.000000\n"
     ]
    }
   ],
   "source": [
    "# b) A média de idade\n",
    "\n",
    "continuar = 'S'\n",
    "listaDados = []\n",
    "listaIdade = []\n",
    "\n",
    "while (continuar == 'S' or continuar == 's'):\n",
    "    dados = {\n",
    "        \"nome\": input(\"Digite o nome: \"),\n",
    "        \"sexo\": input(\"Digite o sexo: (M/F) \"),\n",
    "        \"idade\": int(input(\"Digite a idade: \"))\n",
    "    }\n",
    "    listaDados.append(dados)\n",
    "    continuar = input('Deseja continuar inserindo dados? (S/N) ') \n",
    "    \n",
    "listaIdades = [dados[\"idade\"] for dados in listaDados]\n",
    "mediaIdades = sum(listaIdades)/len(listaIdades)\n",
    "\n",
    "print(\"Média da idade das pessoas cadastradas: %f\" %mediaIdades)"
   ]
  },
  {
   "cell_type": "code",
   "execution_count": 28,
   "id": "f4962f74",
   "metadata": {},
   "outputs": [
    {
     "name": "stdout",
     "output_type": "stream",
     "text": [
      "Digite o nome: Aline\n",
      "Digite o sexo: (M/F) F\n",
      "Digite a idade: 25\n",
      "Deseja continuar inserindo dados? (S/N) S\n",
      "Digite o nome: Alex\n",
      "Digite o sexo: (M/F) F\n",
      "Digite a idade: 26\n",
      "Deseja continuar inserindo dados? (S/N) Alter\n",
      "Lista com as mulheres: ['Aline', 'Alex']\n"
     ]
    }
   ],
   "source": [
    "# c) Uma lista com as mulheres\n",
    "\n",
    "continuar = 'S'\n",
    "listaDados = []\n",
    "\n",
    "while (continuar == 'S' or continuar == 's'):\n",
    "    dados = {\n",
    "        \"nome\": input(\"Digite o nome: \"),\n",
    "        \"sexo\": input(\"Digite o sexo: (M/F) \"),\n",
    "        \"idade\": int(input(\"Digite a idade: \"))\n",
    "    }\n",
    "    listaDados.append(dados)\n",
    "    continuar = input('Deseja continuar inserindo dados? (S/N) ') \n",
    "\n",
    "listaMulheres = [dados['nome'] for dados in listaDados if dados['sexo'] == 'F']\n",
    "\n",
    "print(\"Lista de mulheres: \", end=\"\") \n",
    "print(listaMulheres)"
   ]
  },
  {
   "cell_type": "code",
   "execution_count": 32,
   "id": "168a9eb4",
   "metadata": {},
   "outputs": [
    {
     "name": "stdout",
     "output_type": "stream",
     "text": [
      "Digite o nome: Aline\n",
      "Digite o sexo: (M/F) F\n",
      "Digite a idade: 25\n",
      "Deseja continuar inserindo dados? (S/N) S\n",
      "Digite o nome: Alex\n",
      "Digite o sexo: (M/F) M\n",
      "Digite a idade: 24\n",
      "Deseja continuar inserindo dados? (S/N) S\n",
      "Digite o nome: Mud\n",
      "Digite o sexo: (M/F) M\n",
      "Digite a idade: 26\n",
      "Deseja continuar inserindo dados? (S/N) N\n",
      "Lista de pessoas com idade acima da média: ['Mud']\n"
     ]
    }
   ],
   "source": [
    "# d) Uma lista de pessoas com idade acima da média\n",
    "\n",
    "continuar = 'S'\n",
    "listaDados = []\n",
    "\n",
    "while (continuar == 'S' or continuar == 's'):\n",
    "    dados = {\n",
    "        \"nome\": input(\"Digite o nome: \"),\n",
    "        \"sexo\": input(\"Digite o sexo: (M/F) \"),\n",
    "        \"idade\": int(input(\"Digite a idade: \"))\n",
    "    }\n",
    "    listaDados.append(dados)\n",
    "    continuar = input('Deseja continuar inserindo dados? (S/N) ') \n",
    "\n",
    "listaIdades = [dados[\"idade\"] for dados in listaDados]\n",
    "mediaIdades = sum(listaIdades)/len(listaIdades)  \n",
    "\n",
    "listaAcimaMedia = [dados['nome'] for dados in listaDados if dados['idade'] > mediaIdades]\n",
    "\n",
    "print(\"Lista de pessoas com idade acima da média: \", end=\"\") \n",
    "print(listaAcimaMedia)"
   ]
  },
  {
   "cell_type": "code",
   "execution_count": 60,
   "id": "f43a0d43",
   "metadata": {},
   "outputs": [
    {
     "name": "stdout",
     "output_type": "stream",
     "text": [
      "1\n"
     ]
    }
   ],
   "source": [
    "# 2. Escreva um programa Python para criar uma tupla com números de 1 a 4 e imprima um\n",
    "#    item\n",
    "\n",
    "tupla = tuple(range(1,5))\n",
    "item1, item2, item3, item4 = tupla\n",
    "print(item1)"
   ]
  },
  {
   "cell_type": "code",
   "execution_count": 3,
   "id": "9871d5ec",
   "metadata": {},
   "outputs": [
    {
     "name": "stdout",
     "output_type": "stream",
     "text": [
      "Os tipos das respectivas tuplas: [<class 'str'>, <class 'str'>, <class 'str'>, <class 'str'>]\n",
      "Os valores das respectivas tuplas: ['aluno', 'universidade', 'nota', 'resultado']\n"
     ]
    }
   ],
   "source": [
    "# 3. Escreva um programa Python para desempacotar uma tupla em várias variáveis:\n",
    "#    considere uma tupla = (‘aluno’,’universidade’, ‘nota’, ‘resultado’) e as variáveis w, x, y, z\n",
    "#    Consulte o tipo de dados de cada uma das variáveis e impriva os valores de cada uma\n",
    "#    delas.\n",
    "\n",
    "tupla = ('aluno', 'universidade', 'nota', 'resultado')\n",
    "w, x, y, z = tupla\n",
    "\n",
    "tipos = [type(i) for i in tupla]\n",
    "valores = [i for i in tupla]\n",
    "\n",
    "print(\"Os tipos das respectivas tuplas: \", end=\"\")\n",
    "print(tipos)\n",
    "print(\"Os valores das respectivas tuplas: \", end=\"\")\n",
    "print(valores)\n",
    "\n",
    "### VERIFICAR IMPRESSÃO DE CADA VARIÁVEL"
   ]
  },
  {
   "cell_type": "code",
   "execution_count": 5,
   "id": "71146122",
   "metadata": {},
   "outputs": [
    {
     "name": "stdout",
     "output_type": "stream",
     "text": [
      "A união dos três conjuntos é: {'apple', 'mango', 'orange'}\n"
     ]
    }
   ],
   "source": [
    "# 4. Crie 3 conjuntos conforme estrutura a seguir:\n",
    "#    setx = set([\"apple\", \"mango\"])\n",
    "#    sety = set([\"mango\", \"orange\"])\n",
    "#    setz = set([\"mango\"])\n",
    "\n",
    "#    Faça as seguintes operações sobre conjuntos:\n",
    "# a) Faça a união dos três conjuntos e imprima o resultado\n",
    "\n",
    "setx = set([\"apple\", \"mango\"])\n",
    "sety = set([\"mango\", \"orange\"])\n",
    "setz = set([\"mango\"])\n",
    "\n",
    "uniaoXYZ = setx | sety | setz\n",
    "print(f\"A união dos três conjuntos é: {uniaoXYZ}\")"
   ]
  },
  {
   "cell_type": "code",
   "execution_count": 6,
   "id": "1b8f066a",
   "metadata": {},
   "outputs": [
    {
     "name": "stdout",
     "output_type": "stream",
     "text": [
      "O elementos comuns são: {'mango'}\n"
     ]
    }
   ],
   "source": [
    "# b) Verifique quais os elementos comuns do conjunto setx e sety e \n",
    "#    imprima o resultado\n",
    "\n",
    "intercessaoXY = setx & sety\n",
    "print(f\"O elementos comuns são: {intercessaoXY}\")"
   ]
  },
  {
   "cell_type": "code",
   "execution_count": 14,
   "id": "f3e4edc2",
   "metadata": {},
   "outputs": [
    {
     "name": "stdout",
     "output_type": "stream",
     "text": [
      "setx é subconjunto de sety? False\n",
      "setx é subconjunto de setz? False\n"
     ]
    }
   ],
   "source": [
    "# c) Verifique se o conjunto setx é subconjunto do conjunto sety e setz \n",
    "#    utilizando issubset()\n",
    "\n",
    "subconjuntoY = setx.issubset(sety)\n",
    "print(f\"setx é subconjunto de sety? {subconjuntoY}\")\n",
    "\n",
    "subconjuntoZ = setx.issubset(setz)\n",
    "print(f\"setx é subconjunto de setz? {subconjuntoZ}\")"
   ]
  },
  {
   "cell_type": "code",
   "execution_count": 16,
   "id": "8a420ffb",
   "metadata": {},
   "outputs": [
    {
     "name": "stdout",
     "output_type": "stream",
     "text": [
      "{'apple'}\n"
     ]
    }
   ],
   "source": [
    "# d) Verifique quais elementos do conjunto setx não existem em sety\n",
    "\n",
    "elementos = {elemento for elemento in setx if elemento not in sety}\n",
    "print(f\"Elementos que não existem  {elementos}\")"
   ]
  },
  {
   "cell_type": "code",
   "execution_count": 34,
   "id": "baace084",
   "metadata": {},
   "outputs": [
    {
     "name": "stdout",
     "output_type": "stream",
     "text": [
      "[('color4', 'Orange'), ('color1', 'Red'), ('color2', 'Green'), ('color3', 'Blue')]\n"
     ]
    }
   ],
   "source": [
    "# 5. Escreva um programa Python para inserir um elemento no início de um \n",
    "# determinado DicionárioOrdenado.\n",
    "# DicionárioOrdenado original:\n",
    "# DicionárioOrdenado ([('color1', 'Red'), ('color2', 'Green'), \n",
    "# ('color3', 'Blue')])\n",
    "# Insira um elemento no início do referido DicionárioOrdenado:\n",
    "# DicionárioOrdenado atualizado:\n",
    "# DicionárioOrdenado ([('color4', 'Orange'), ('color1', 'Red'), \n",
    "# ('color2', 'Green'), ('color3', 'Blue')])\n",
    "\n",
    "DicionarioOrdenado = [('color1', 'Red'), ('color2', 'Green'), ('color3', 'Blue')]\n",
    "DicionarioOrdenado.insert(0, ('color4', 'Orange'))\n",
    "print(DicionarioOrdenado)\n"
   ]
  },
  {
   "cell_type": "code",
   "execution_count": 35,
   "id": "afbffd40",
   "metadata": {},
   "outputs": [
    {
     "name": "stdout",
     "output_type": "stream",
     "text": [
      "                                                                 monty\n"
     ]
    }
   ],
   "source": [
    "# 6. Escreva uma função chamada right_justify, que receba uma string chamada\n",
    "# s como parâmetro e exiba a string com espaços suficientes à frente para que a \n",
    "# última letra da string esteja na coluna 70 da tela:\n",
    "# >>> right_justify('monty')\n",
    "# Dica: Use concatenação de strings e repetição. Além disso, o Python oferece \n",
    "# uma função integrada chamada len, que apresenta o comprimento de uma string, \n",
    "# então o valor de len('monty') é 5.\n",
    "\n",
    "def right_justify(s):\n",
    "    quantidadeEspacos = 70 - len(s)\n",
    "    result = (\" \" * quantidadeEspacos) + s\n",
    "    return result\n",
    "\n",
    "print(right_justify('monty'))"
   ]
  },
  {
   "cell_type": "code",
   "execution_count": 38,
   "id": "ce6d6650",
   "metadata": {},
   "outputs": [
    {
     "name": "stdout",
     "output_type": "stream",
     "text": [
      "spam\n",
      "spam\n"
     ]
    }
   ],
   "source": [
    "# 7. Um objeto de função é um valor que pode ser atribuído a uma variável ou\n",
    "# passado como argumento. Por exemplo, do_twice é uma função que toma um \n",
    "# objeto de função como argumento e o chama duas vezes:\n",
    "# def do_twice(f):\n",
    "#    f()\n",
    "#    f()\n",
    "# Aqui está um exemplo que usa do_twice para chamar uma função chamada \n",
    "# print_spam duas vezes:\n",
    "# def print_spam():\n",
    "#    print('spam')\n",
    "#    do_twice(print_spam)\n",
    "# a) Digite este exemplo em um script e teste-o.\n",
    "def do_twice(f):\n",
    "    f()\n",
    "    f()\n",
    "\n",
    "def print_spam():\n",
    "    print('spam')\n",
    "    \n",
    "do_twice(print_spam)"
   ]
  },
  {
   "cell_type": "code",
   "execution_count": 48,
   "id": "3c73d419",
   "metadata": {},
   "outputs": [
    {
     "name": "stdout",
     "output_type": "stream",
     "text": [
      "exemplo\n",
      "exemplo\n"
     ]
    }
   ],
   "source": [
    "# b) Altere do_twice para que receba dois argumentos, um objeto de função e\n",
    "# um valor, e chame a função duas vezes, passando o valor como um argumento.\n",
    "\n",
    "def do_twice(f, v):\n",
    "    f(v)\n",
    "    f(v)\n",
    "    \n",
    "def print_spam(value):\n",
    "    print(value)\n",
    "    \n",
    "do_twice(print_spam, 'exemplo')"
   ]
  },
  {
   "cell_type": "code",
   "execution_count": null,
   "id": "fd289d84",
   "metadata": {},
   "outputs": [],
   "source": [
    "# 8. Crie um programa que faça a impressão de uma mensagem e a multiplicação \n",
    "# de dois números. Utilize módulos e funções para resolução desse problema.\n",
    "# a) O usuário deve entrar com a mensagem e com o uso de módulos e funções, \n",
    "# essa mensagem deve ser impressa na tela\n",
    "# b) O usuário deve entrar com os valores dos dois multiplicadores e o \n",
    "# programa deve exibir o resultado na tela.\n",
    "\n",
    "# Módulo entrada.py\n",
    "\n",
    "def print_multiply(mensagem, valor1, valor2):\n",
    "    print(f\"A mensagem é: {mensagem}\")\n",
    "    print(f\"O valor da multiplicação é: {valor1 * valor2}\")"
   ]
  },
  {
   "cell_type": "code",
   "execution_count": null,
   "id": "6a89faab",
   "metadata": {},
   "outputs": [],
   "source": [
    "# Módulo result \n",
    "\n",
    "from . import print_multiply\n",
    "\n",
    "mensagem = input(\"Digite uma mensagem: \")\n",
    "valor1 = int(input(\"Digite o primeiro valor para multiplicação: \"))\n",
    "valor2 = int(input(\"Digite o segundo valor para multiplicação: \"))\n",
    "\n",
    "print_multiply(mensagem, valor1, valor2)"
   ]
  },
  {
   "cell_type": "code",
   "execution_count": null,
   "id": "ccd10c4b",
   "metadata": {},
   "outputs": [],
   "source": [
    "# 9. Dada uma lista encadeada de caracteres formada por uma sequência \n",
    "# alternada de letras e dígitos, construa um método que retorne uma lista na \n",
    "# qual as letras são mantidas na sequência original e os dígitos são \n",
    "# colocados na ordem inversa. \n",
    "# Exemplos: A 1 E 5 T 7 W 8 G → A E T W G 8 7 5 1\n",
    "# 3 C 9 H 4 Q 6 → C H Q 6 4 9 3\n",
    "# Como mostram os exemplos, as letras devem ser mostradas primeiro, seguidas \n",
    "# dos dígitos. Sugestões:\n",
    "# a) usar uma fila e uma pilha;\n",
    "\n"
   ]
  }
 ],
 "metadata": {
  "kernelspec": {
   "display_name": "Python 3 (ipykernel)",
   "language": "python",
   "name": "python3"
  },
  "language_info": {
   "codemirror_mode": {
    "name": "ipython",
    "version": 3
   },
   "file_extension": ".py",
   "mimetype": "text/x-python",
   "name": "python",
   "nbconvert_exporter": "python",
   "pygments_lexer": "ipython3",
   "version": "3.9.12"
  }
 },
 "nbformat": 4,
 "nbformat_minor": 5
}
